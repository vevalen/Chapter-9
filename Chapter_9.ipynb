{
  "nbformat": 4,
  "nbformat_minor": 0,
  "metadata": {
    "colab": {
      "provenance": [],
      "authorship_tag": "ABX9TyOW3xoKSdk2qAt4tneaEhB6",
      "include_colab_link": true
    },
    "kernelspec": {
      "name": "python3",
      "display_name": "Python 3"
    },
    "language_info": {
      "name": "python"
    }
  },
  "cells": [
    {
      "cell_type": "markdown",
      "metadata": {
        "id": "view-in-github",
        "colab_type": "text"
      },
      "source": [
        "<a href=\"https://colab.research.google.com/github/vevalen/Chapter-9/blob/main/Chapter_9.ipynb\" target=\"_parent\"><img src=\"https://colab.research.google.com/assets/colab-badge.svg\" alt=\"Open In Colab\"/></a>"
      ]
    },
    {
      "cell_type": "markdown",
      "source": [
        "# Chapter 9 Homework\n",
        "Write a function my_bin_2_dec(b) where b is binary number represented by a list of ones and zeros. The last element of b represents the coefficient of 20, the second-to-last element of b represents the coefficient of 21, and so on. The output variable, d, should be the decimal representation of b. The test cases are provided below."
      ],
      "metadata": {
        "id": "NIrDP6ByOYx_"
      }
    },
    {
      "cell_type": "code",
      "source": [
        "def my_bin_2_dec(b):\n",
        "  d = 0\n",
        "  for digit in b:\n",
        "     d = d*2 + int(digit)\n",
        "  return d"
      ],
      "metadata": {
        "id": "VMv4EEHzOiVD"
      },
      "execution_count": 6,
      "outputs": []
    },
    {
      "cell_type": "code",
      "source": [
        "my_bin_2_dec([1, 1, 1])"
      ],
      "metadata": {
        "colab": {
          "base_uri": "https://localhost:8080/"
        },
        "id": "4h8k0vVPUGFX",
        "outputId": "0aa69d7a-87cf-46c9-d6b3-cc174b0cf702"
      },
      "execution_count": 7,
      "outputs": [
        {
          "output_type": "execute_result",
          "data": {
            "text/plain": [
              "7"
            ]
          },
          "metadata": {},
          "execution_count": 7
        }
      ]
    },
    {
      "cell_type": "code",
      "source": [
        "my_bin_2_dec([1, 0, 1, 0, 1, 0, 1])"
      ],
      "metadata": {
        "colab": {
          "base_uri": "https://localhost:8080/"
        },
        "id": "kWMFAR63Uaji",
        "outputId": "5e7de698-3fa5-42e9-e417-0b58772e3a0e"
      },
      "execution_count": 8,
      "outputs": [
        {
          "output_type": "execute_result",
          "data": {
            "text/plain": [
              "85"
            ]
          },
          "metadata": {},
          "execution_count": 8
        }
      ]
    },
    {
      "cell_type": "code",
      "source": [
        "my_bin_2_dec([1]*25)"
      ],
      "metadata": {
        "colab": {
          "base_uri": "https://localhost:8080/"
        },
        "id": "2z691GdhUlSq",
        "outputId": "83f93959-91bc-46c3-c934-480f141fc925"
      },
      "execution_count": 10,
      "outputs": [
        {
          "output_type": "execute_result",
          "data": {
            "text/plain": [
              "33554431"
            ]
          },
          "metadata": {},
          "execution_count": 10
        }
      ]
    },
    {
      "cell_type": "markdown",
      "source": [
        "Write a function my_dec_2_bin(d), where d is a positive integer in decimal, and b is the binary representation of d. The output b must be a list of ones and zeros, and the leading term must be a 1 unless the decimal input value is 0. The test cases are provided below."
      ],
      "metadata": {
        "id": "0rilgib4UuHW"
      }
    },
    {
      "cell_type": "code",
      "source": [
        "def my_dec_2_bin(d):\n",
        "  c = bin(d).replace(\"0b\",\"\")\n",
        "  b = [int(x) for x in str(c)]\n",
        "  return b"
      ],
      "metadata": {
        "id": "G8YTgGYpUyk3"
      },
      "execution_count": 48,
      "outputs": []
    },
    {
      "cell_type": "code",
      "source": [
        "my_dec_2_bin(0)"
      ],
      "metadata": {
        "colab": {
          "base_uri": "https://localhost:8080/"
        },
        "id": "j6FdSaezWOdX",
        "outputId": "dbeb5ab0-2b4f-45ac-f5df-55129b7240e0"
      },
      "execution_count": 49,
      "outputs": [
        {
          "output_type": "execute_result",
          "data": {
            "text/plain": [
              "[0]"
            ]
          },
          "metadata": {},
          "execution_count": 49
        }
      ]
    },
    {
      "cell_type": "code",
      "source": [
        "my_dec_2_bin(23)"
      ],
      "metadata": {
        "colab": {
          "base_uri": "https://localhost:8080/"
        },
        "id": "VTzdkAEuWUIp",
        "outputId": "79948130-a16d-4e5c-fb7e-573ecca49327"
      },
      "execution_count": 50,
      "outputs": [
        {
          "output_type": "execute_result",
          "data": {
            "text/plain": [
              "[1, 0, 1, 1, 1]"
            ]
          },
          "metadata": {},
          "execution_count": 50
        }
      ]
    },
    {
      "cell_type": "code",
      "source": [
        "my_dec_2_bin(2097)"
      ],
      "metadata": {
        "colab": {
          "base_uri": "https://localhost:8080/"
        },
        "id": "0BgKBh53WzKf",
        "outputId": "635fa50e-8f28-4b0e-ec41-3331287274bc"
      },
      "execution_count": 51,
      "outputs": [
        {
          "output_type": "execute_result",
          "data": {
            "text/plain": [
              "[1, 0, 0, 0, 0, 0, 1, 1, 0, 0, 0, 1]"
            ]
          },
          "metadata": {},
          "execution_count": 51
        }
      ]
    },
    {
      "cell_type": "markdown",
      "source": [
        "Use the two functions you wrote in problems 1 and 2 to compute d = my_bin_2_dec(my_dec_2_bin(12654)). Do you get the same number?"
      ],
      "metadata": {
        "id": "b7XV7wV_W9MY"
      }
    },
    {
      "cell_type": "code",
      "source": [
        "d = my_bin_2_dec(my_dec_2_bin(12654))\n",
        "d"
      ],
      "metadata": {
        "colab": {
          "base_uri": "https://localhost:8080/"
        },
        "id": "0ed5Z4AwXBzA",
        "outputId": "e4f714b8-7483-47ac-bfcb-1685430ccdb3"
      },
      "execution_count": 25,
      "outputs": [
        {
          "output_type": "execute_result",
          "data": {
            "text/plain": [
              "12654"
            ]
          },
          "metadata": {},
          "execution_count": 25
        }
      ]
    },
    {
      "cell_type": "code",
      "source": [
        "my_dec_2_bin(12654)"
      ],
      "metadata": {
        "colab": {
          "base_uri": "https://localhost:8080/"
        },
        "id": "jgITyiPUXPVM",
        "outputId": "12d09919-2438-423e-c43b-de15ccf04cf6"
      },
      "execution_count": 52,
      "outputs": [
        {
          "output_type": "execute_result",
          "data": {
            "text/plain": [
              "[1, 1, 0, 0, 0, 1, 0, 1, 1, 0, 1, 1, 1, 0]"
            ]
          },
          "metadata": {},
          "execution_count": 52
        }
      ]
    },
    {
      "cell_type": "code",
      "source": [
        "my_bin_2_dec([1,1,0,0,0,1,0,1,1,0,1,1,1,0])"
      ],
      "metadata": {
        "colab": {
          "base_uri": "https://localhost:8080/"
        },
        "id": "SbKABn2XXXAO",
        "outputId": "20f2b5a9-d71c-4523-cc9a-a33098c39547"
      },
      "execution_count": 27,
      "outputs": [
        {
          "output_type": "execute_result",
          "data": {
            "text/plain": [
              "12654"
            ]
          },
          "metadata": {},
          "execution_count": 27
        }
      ]
    },
    {
      "cell_type": "markdown",
      "source": [
        "Yes, I get the same number\n",
        "\n",
        "Write a function my_bin_adder(b1,b2), where b1, b2 and the output variable b are binary numbers represented as in problem 1. The output variable should be computed as b = b1 + b2. Do not use your functions from problems 1 and 2 to write this function (i.e., do not convert b1 and b2 to decimal; add them, and then convert the result back to binary). This function should be able to accept inputs b1 and b2 of any length (i.e., very long binary numbers), and b1 and b2 may not necessarily be the same length."
      ],
      "metadata": {
        "id": "oDHgu09zXkz2"
      }
    },
    {
      "cell_type": "code",
      "source": [
        "\n",
        "def my_bin_adder(b1,b2):\n",
        "  import numpy as np\n",
        "\n",
        "  \n",
        "  s = [str(i) for i in b1]\n",
        "  res = int(\"\".join(s),2) \n",
        "  s1 = [str(i) for i in b2]\n",
        "  res1 = int(\"\".join(s1),2)  \n",
        "\n",
        "  b1 = res\n",
        "  b2 = res1\n",
        "  \n",
        "  c = b1 + b2\n",
        "\n",
        "  result = bin(c).replace(\"0b\",\"\")\n",
        "\n",
        "  b = [int(x) for x in str(result)]\n",
        "  return b\n",
        "\n",
        "\n",
        "\n"
      ],
      "metadata": {
        "id": "eBLEfDGwYIhm"
      },
      "execution_count": 115,
      "outputs": []
    },
    {
      "cell_type": "code",
      "source": [
        "my_bin_adder([1, 1, 1, 1, 1], [1])"
      ],
      "metadata": {
        "colab": {
          "base_uri": "https://localhost:8080/"
        },
        "id": "ZyPtkWzRwJYY",
        "outputId": "0e768ac9-c05f-4b38-d512-fa65e9ba9d74"
      },
      "execution_count": 116,
      "outputs": [
        {
          "output_type": "execute_result",
          "data": {
            "text/plain": [
              "[1, 0, 0, 0, 0, 0]"
            ]
          },
          "metadata": {},
          "execution_count": 116
        }
      ]
    },
    {
      "cell_type": "code",
      "source": [
        "my_bin_adder([1, 1, 1, 1, 1], [1, 0, 1, 0, 1, 0, 0])"
      ],
      "metadata": {
        "colab": {
          "base_uri": "https://localhost:8080/"
        },
        "id": "thPIacXtyUzM",
        "outputId": "f0780dba-0e4b-4747-ff35-ec30db4a2c8e"
      },
      "execution_count": 117,
      "outputs": [
        {
          "output_type": "execute_result",
          "data": {
            "text/plain": [
              "[1, 1, 1, 0, 0, 1, 1]"
            ]
          },
          "metadata": {},
          "execution_count": 117
        }
      ]
    },
    {
      "cell_type": "code",
      "source": [
        "my_bin_adder([1, 1, 0], [1, 0, 1])"
      ],
      "metadata": {
        "colab": {
          "base_uri": "https://localhost:8080/"
        },
        "id": "COX42SnwyZLb",
        "outputId": "14d584cf-161b-4d29-c8fd-ec4448c67149"
      },
      "execution_count": 118,
      "outputs": [
        {
          "output_type": "execute_result",
          "data": {
            "text/plain": [
              "[1, 0, 1, 1]"
            ]
          },
          "metadata": {},
          "execution_count": 118
        }
      ]
    },
    {
      "cell_type": "markdown",
      "source": [
        "Write a function my_ieee_2_dec(ieee), where ieee is a string contains 64 characters of ones and zeros representing a 64-bit IEEE754 number. The output should be d, the equivalent decimal representation of ieee. The input variable ieee will always be a 64-element string of ones and zeros defining a 64-bit float."
      ],
      "metadata": {
        "id": "ZPRyxMDpyhYN"
      }
    },
    {
      "cell_type": "code",
      "source": [
        "def my_ieee_2_dec(ieee):\n",
        "  s=0\n",
        "  e =\"\"\n",
        "  f =\"\"\n",
        "  if ieee > 0:\n",
        "    s = 0\n",
        "  else:\n",
        "    s = 1\n",
        "\n",
        "  \n",
        "    \n",
        "  \n",
        "  n=((-1)**s)*(2**(e-1023))*(1+f)\n",
        "  d = 0\n",
        "  for digit in ieee:\n",
        "     d = d*2 + int(digit)\n",
        "  return d\n"
      ],
      "metadata": {
        "id": "21-h_yDayjxy"
      },
      "execution_count": 123,
      "outputs": []
    },
    {
      "cell_type": "code",
      "source": [
        "ieee = '1100000001001000000000000000000000000000000000000000000000000000'\n",
        "my_ieee_2_dec(ieee)"
      ],
      "metadata": {
        "colab": {
          "base_uri": "https://localhost:8080/"
        },
        "id": "8x473be31Z_D",
        "outputId": "fe11c853-0b39-4864-e208-b356e05189fc"
      },
      "execution_count": 124,
      "outputs": [
        {
          "output_type": "execute_result",
          "data": {
            "text/plain": [
              "13855324253605330944"
            ]
          },
          "metadata": {},
          "execution_count": 124
        }
      ]
    }
  ]
}